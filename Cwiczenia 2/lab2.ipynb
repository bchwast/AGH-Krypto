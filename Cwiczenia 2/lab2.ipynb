{
 "cells": [
  {
   "cell_type": "markdown",
   "metadata": {},
   "source": [
    "# Kryptografia z kluczem tajnym (symetryczna): szyfry strumieniowe\n",
    "### Literatura:\n",
    "1. Nowoczesna kryptografia, Aumasson\n",
    "2. Kryptografia dla praktyków, Schneier"
   ]
  },
  {
   "cell_type": "markdown",
   "metadata": {},
   "source": [
    "#### Funkcje pomocnicze\n",
    "Zadaniem poniższego zestawu funkcji jest zamiana wiadomości tekstowej (poprzez kody ASCII) do (tekstowego) ciągu 0 i 1. Chcemy analizować funkcje tak jak są one opisane w książkach.\n"
   ]
  },
  {
   "cell_type": "code",
   "execution_count": 1,
   "metadata": {},
   "outputs": [
    {
     "name": "stdout",
     "output_type": "stream",
     "text": [
      "Liczba 200 w zapisie binarnym na 8 bitach: 11001000\n",
      "Liczba 200 w zapisie binarnym na 16 bitach: 0000000011001000\n",
      "Tekst w formie kodów ASCII:  [84, 104, 101, 32, 113, 117, 105, 99, 107, 32, 98, 114, 111, 119, 110, 32, 102, 111, 120, 32, 106, 117, 109, 112, 115, 32, 111, 118, 101, 114, 32, 116, 104, 101, 32, 108, 97, 122, 121, 32, 100, 111, 103]\n",
      "Tekst w formie porcji bitów: ['01010100', '01101000', '01100101', '00100000', '01110001', '01110101', '01101001', '01100011', '01101011', '00100000', '01100010', '01110010', '01101111', '01110111', '01101110', '00100000', '01100110', '01101111', '01111000', '00100000', '01101010', '01110101', '01101101', '01110000', '01110011', '00100000', '01101111', '01110110', '01100101', '01110010', '00100000', '01110100', '01101000', '01100101', '00100000', '01101100', '01100001', '01111010', '01111001', '00100000', '01100100', '01101111', '01100111']\n",
      "Tekst w postaci ciągu 0 i 1: 01010100011010000110010100100000011100010111010101101001011000110110101100100000011000100111001001101111011101110110111000100000011001100110111101111000001000000110101001110101011011010111000001110011001000000110111101110110011001010111001000100000011101000110100001100101001000000110110001100001011110100111100100100000011001000110111101100111\n",
      "\n",
      "AND 0101010001100\n",
      "OR 0101010001101\n",
      "XOR 0000000000001\n",
      "NEG 1010101110010\n"
     ]
    }
   ],
   "source": [
    "# Funkcje pomocnicze \n",
    "from textwrap import wrap\n",
    "import math \n",
    "from codecs import encode\n",
    "\n",
    "#tablica znaków w tablicę kodów int\n",
    "def intoASCIIArray(message: str):\n",
    "    int_array = []\n",
    "    mesg_array = list(message) \n",
    "    for i in mesg_array:\n",
    "        int_array.append(ord(i))\n",
    "    return int_array\n",
    "\n",
    "#tablica kodów int w tablice znaków \n",
    "def intoCharArray(message: []):\n",
    "    mesg_char = []\n",
    "    for i in message:\n",
    "        mesg_char.append(chr(i))\n",
    "    return mesg_char\n",
    "\n",
    "# jak wyświetlić dane w postaci binarnej na n bitach \n",
    "get_bin = lambda x, n: format(x, 'b').zfill(n)\n",
    "\n",
    "#tekst ascii w postaci tablicy 8-bitowych porcji\n",
    "def ASCIIToBinChunks(message_list):\n",
    "    binary = []\n",
    "    for x in message_list: \n",
    "        binary.append(get_bin(x, 8))\n",
    "    return binary\n",
    "\n",
    "#tekst ascii w formie strumienia bitów \n",
    "def ASCIIToBinStream(binary: []):\n",
    "    binary_str = \"\"\n",
    "    for x in binary:\n",
    "        binary_str+=x \n",
    "    return binary_str\n",
    "\n",
    "\n",
    "# Przykłady\n",
    "\n",
    "# Liczba 200 w zapisie binarnym \n",
    "l = 200\n",
    "bl = get_bin(l,8)\n",
    "print(\"Liczba 200 w zapisie binarnym na 8 bitach:\", bl)\n",
    "bl = get_bin(l,16)\n",
    "print(\"Liczba 200 w zapisie binarnym na 16 bitach:\", bl)\n",
    "\n",
    "\n",
    "messageTxt = 'The quick brown fox jumps over the lazy dog'\n",
    "messageASCII = intoASCIIArray(messageTxt)\n",
    "print(\"Tekst w formie kodów ASCII: \",messageASCII)\n",
    "messageASCIIBinChunks = ASCIIToBinChunks(messageASCII)\n",
    "print(\"Tekst w formie porcji bitów:\", messageASCIIBinChunks)\n",
    "messageASCIIBinStream = ASCIIToBinStream(messageASCIIBinChunks) \n",
    "print(\"Tekst w postaci ciągu 0 i 1:\", messageASCIIBinStream)\n",
    "print()        \n",
    "\n",
    "\n",
    "#Operatory logiczne działające na napisach bitów \n",
    "def XOR(bits1,bits2):\n",
    "    \"\"\"perform a XOR operation and return the output\"\"\"\n",
    "    xor_result = \"\"\n",
    "    for index in range(len(bits1)):\n",
    "        if bits1[index] == bits2[index]: \n",
    "            xor_result += '0'\n",
    "        else:\n",
    "            xor_result += '1'\n",
    "    return xor_result  \n",
    "\n",
    "def AND(bits1,bits2):\n",
    "    \"\"\"perform a AND operation and return the output\"\"\"\n",
    "    and_result = \"\"\n",
    "    for index in range(len(bits1)):\n",
    "        if (bits1[index] == '1') and  (bits2[index] == '1'): \n",
    "            and_result += '1'\n",
    "        else:\n",
    "            and_result += '0'\n",
    "    return and_result  \n",
    "\n",
    "def OR(bits1,bits2):\n",
    "    \"\"\"perform a OR operation and return the output\"\"\"\n",
    "    or_result = \"\"\n",
    "    for index in range(len(bits1)):\n",
    "        if (bits1[index] == '0') and  (bits2[index] == '0'): \n",
    "            or_result += '0'\n",
    "        else:\n",
    "            or_result += '1'\n",
    "    return or_result  \n",
    "\n",
    "def NEG(bits):\n",
    "    \"\"\"perform a NEG operation and return the output\"\"\"\n",
    "    neg_result = \"\"\n",
    "    for index in range(len(bits)):\n",
    "        if (bits[index] == '0'): \n",
    "            neg_result += '1'\n",
    "        else:\n",
    "            neg_result += '0'\n",
    "    return neg_result  \n",
    "\n",
    "print(\"AND\", AND('0101010001101', '0101010001100'))    \n",
    "print(\"OR\", OR('0101010001101', '0101010001100')) \n",
    "print(\"XOR\", XOR('0101010001101', '0101010001100')) \n",
    "print(\"NEG\", NEG('0101010001101')) "
   ]
  },
  {
   "cell_type": "code",
   "execution_count": 2,
   "metadata": {},
   "outputs": [
    {
     "name": "stdout",
     "output_type": "stream",
     "text": [
      "Losowe bajty: ['10001110', '11111000', '11000111', '11110101', '11101100', '01010100', '00111110', '10011110']\n",
      "Strumień bitów: 1000111011111000110001111111010111101100010101000011111010011110\n",
      "Pojedyncze losowe bajty:10000110 00000010\n"
     ]
    }
   ],
   "source": [
    "# Generowanie losowych danych: funkcje i algorytmy pomocnicze \n",
    "import random\n",
    "random.seed(\"key\")  #generator PRNG w python można inicjalizować tekstem\n",
    "\n",
    "# jak wygenerować 8 losowych bitów (razy n)\n",
    "def randomBytes(n):\n",
    "    return bytes(random.getrandbits(8) for i in range(n))\n",
    "\n",
    "def randomByte():\n",
    "    return random.randint(0,255)\n",
    "\n",
    "def randomByteBin():\n",
    "    return get_bin(random.randint(0,255),8)\n",
    "\n",
    "#jak wygenerować ciąg losowych bajtów\n",
    "random_stream_chunks = []\n",
    "for i in range(8):\n",
    "    random_stream_chunks.append(randomByteBin())\n",
    "\n",
    "print(\"Losowe bajty:\", random_stream_chunks)\n",
    "    \n",
    "randomBinaryString = \"\"    \n",
    "for i in random_stream_chunks:\n",
    "    randomBinaryString+=i\n",
    "\n",
    "print(\"Strumień bitów:\", randomBinaryString)\n",
    "    \n",
    "print(\"Pojedyncze losowe bajty:\", end=\"\")\n",
    "bits1 = randomByteBin()\n",
    "bits2 = get_bin(randomByte(),8)\n",
    "print(bits1, bits2)"
   ]
  },
  {
   "cell_type": "markdown",
   "metadata": {},
   "source": [
    "### Zadanie samodzielne dla studentów\n",
    "Zaimplementuj szyfr, który utajnia strumień wiadomości jawnej przez łączenie go z pseudolosowym strumieniem \n"
   ]
  },
  {
   "cell_type": "code",
   "execution_count": 3,
   "metadata": {
    "scrolled": false
   },
   "outputs": [
    {
     "name": "stdout",
     "output_type": "stream",
     "text": [
      "Writing 's' (str) to file 'plaintext.txt'.\n",
      "['01000011', '11100110', '00000010', '01100010', '00000110', '00100000', '01110011', '11110000', '00100011', '10111111', '10100100', '00111110', '00100111', '11110110', '11011001', '10110000', '00011000', '01000011', '10111011', '10101001', '11110101', '11011100', '10110100', '01010100', '10011100', '10100001', '10011100', '10000110', '00111101', '10010000', '01011111', '01101101', '11100100', '00011110', '00110101', '11110100', '00011101', '10010100', '00100100', '11101000', '10111011', '10100010', '11000101', '11110000', '01110000', '11111100', '00111000', '00110100', '01000111', '01001110', '00001000', '00010101', '10110010', '11110110', '11100000', '00011111', '00010100', '11010101', '10100110', '01101100', '11110010', '01100011', '00101101', '11000000', '10111100', '10001111', '00101000', '11001101', '01011010', '10111111', '10010101', '10000000', '10100101', '11010111', '00101001', '10100001', '10010000', '11101100', '00011101', '10000010', '10000010', '11101101', '01101100', '01100101', '11010100', '10000001', '10110111', '11010001', '10011001', '11101111', '11111010', '00100010', '11110001', '01010101', '01100100', '10101101', '00010011', '11000101', '11100010', '11101001', '01101101', '01100010', '00110100', '01111100', '10100001', '11011001', '11000011', '00010110', '00110000', '11010101', '00111101', '10101011', '01011101', '10110011', '00001101', '01000000', '01110011', '10111100', '00111110', '00001010', '01011101', '11011100', '01110000', '10000000', '10111011', '00010011', '11101011', '00001110', '01010010', '11101000', '11001000']\n",
      "@s¼>\u0006 sð#¿¤>'öÙ°\u0018C»©õÜ´T¡=_mä\u001E5ô\u001D$è»¢Åðpü84G\u0015²öà\u001F\u0014Õ¦lòc-À¼(ÍZ¿¥×)¡ì\u001DíleÔ·Ñïú\"ñUd­\u0013Åâémb4|¡ÙÃ\u00160Õ=«]³\n",
      "]Üp»\u0013ë\u000ERèÈ\n"
     ]
    }
   ],
   "source": [
    "s='''Lorem ipsum dolor sit amet, consectetur adipiscing elit. Nunc eget augue eget sem sodales ultrices. Quisque dapibus, urna sit amet.'''\n",
    "%store s >plaintext.txt\n",
    "h = open(\"plaintext.txt\", \"r\")\n",
    "\n",
    "random.seed(\"shrek\")\n",
    "\n",
    "text_bin_chunks = ASCIIToBinChunks(intoASCIIArray(s))\n",
    "\n",
    "ciphertext_chunks = [XOR(text_byte, randomByteBin()) for text_byte in text_bin_chunks]\n",
    "\n",
    "ciphertext = ''.join(map(lambda chunk: chr(int(chunk, 2)), ciphertext_chunks))\n",
    "\n",
    "print(ciphertext_chunks)\n",
    "print(ciphertext)"
   ]
  },
  {
   "cell_type": "markdown",
   "metadata": {},
   "source": [
    "### Linear congruential generators (LCG)\n",
    "Generatory liniowe kongruentne sa najprostszymi generatorami dającymi ciągi liczb o dobrych własnościach statystycznych. Kolejne wyrazy ciągu generowane sa przy pomocy formuły:\n",
    "\n",
    "$z_{i+1}=(a\\cdot z_i+c)\\bmod m$\n",
    "\n",
    "Wyraz $z_0$ nazywany jest ziarnem (_seed_). Użycie tego samego ziarna gwarantuje nam wyprodukowanie tej samej sekwencji liczb.\n",
    "\n",
    "Charakterystyczną cechą GLK jest ich okresowość. Oczekujemy możliwie najdłuższego okresu (maksymalny to $m-1$). Najdłuższy okres otrzymamy gdy spełnione są pewne warunki (twierdzenie Hull'a-Dobell'a):\n",
    "\n",
    "- $c$ i $m$ są względnie pierwsze, \n",
    "- $a-1$ jest podzielne przez wszystkiem pierwsze czynniki $m$,\n",
    "- $a-1$ jest wielokrotnoścą 4 jeśli $m$ jest wielokrotnością 4.\n",
    "\n",
    "Przykładowe dobre wartości to $a=1103515245$, $c=12345$ dla $m=2^{31}$ \n",
    "\n",
    "Zazwyczaj generator zwraca wartość $\\frac{z_i}{m}$, ale wyjście można przeskalować do dowolnej innej wartości. \n",
    "\n",
    "Obecnie większość PRNG to tzw. _Mersenne twister_, ale ogólna idea ich użytkowania i własności jest taka sama jak w przypadku generatorów kongruentnych. "
   ]
  },
  {
   "cell_type": "code",
   "execution_count": 4,
   "metadata": {},
   "outputs": [
    {
     "name": "stdout",
     "output_type": "stream",
     "text": [
      "[166, 97, 88, 33, 91, 184, 211, 119, 189, 205, 46, 8, 82, 18, 98, 253, 139, 27, 203, 49, 203, 44, 215, 76, 5, 204, 67, 84, 70, 232, 23, 190, 31, 114, 226, 213, 33, 239, 96, 162, 104, 13, 14, 12, 112, 126, 219, 108, 23, 86, 124, 87, 47, 36, 130, 187, 97, 233, 206, 39, 210, 88, 112, 86, 72, 72, 144, 215, 63, 238, 132, 236, 182, 191, 142, 108, 23, 115, 119, 207, 4, 53, 145, 53, 114, 93, 60, 125, 219, 199, 126, 74, 236, 39, 212, 15, 121, 91, 202, 235]\n"
     ]
    }
   ],
   "source": [
    "def lcg(x, a, c, m):\n",
    "    while True:\n",
    "        x = (a * x + c) % m\n",
    "        yield x\n",
    "        \n",
    "def random_uniform_sample(n, interval, seed=0):\n",
    "    a, c, m = 1103515245, 12345, 2 ** 31\n",
    "    bsdrand = lcg(seed, a, c, m)\n",
    "\n",
    "    lower, upper = interval[0], interval[1]\n",
    "    sample = []\n",
    "\n",
    "    for i in range(n):\n",
    "        observation = (upper - lower) * (next(bsdrand) / (2 ** 31 - 1)) + lower\n",
    "        sample.append(round(observation))\n",
    "\n",
    "    return sample\n",
    "\n",
    "print(random_uniform_sample(100, [0,255],11))"
   ]
  },
  {
   "cell_type": "markdown",
   "metadata": {},
   "source": [
    "### Kryptograficzne generatory PRNG\n",
    "Urządzenie /dev/urandom stanowi podstawę dobrego generatora CPRNG"
   ]
  },
  {
   "cell_type": "code",
   "execution_count": 5,
   "metadata": {},
   "outputs": [
    {
     "name": "stdout",
     "output_type": "stream",
     "text": [
      "(1918847283,)\n",
      "(408503176,)\n",
      "42\n",
      "(27418,)\n",
      "(40161,)\n",
      "(1.0719511788199618e+24,)\n",
      "(-3.8840910985897914e+58,)\n",
      "(b'\\xfe',)\n"
     ]
    }
   ],
   "source": [
    "import os\n",
    "import struct\n",
    "\n",
    "# random integer using os.urandom()\n",
    "print(struct.unpack('i', os.urandom(4)))\n",
    "# Output (258871565,)\n",
    "\n",
    "# unsigned random integer using os.urandom()\n",
    "print(struct.unpack('I', os.urandom(4)))\n",
    "print(struct.unpack('I', os.urandom(4))[0] % 100)\n",
    "# Output (1015967885,)\n",
    "\n",
    "# random short number using os.urandom()\n",
    "print(struct.unpack('h', os.urandom(2)))\n",
    "# Output (-28882,)\n",
    "\n",
    "# unsigned random short using os.urandom()\n",
    "print(struct.unpack('H', os.urandom(2)))\n",
    "# Output (29492,)\n",
    "\n",
    "# Print random float using os.urandom()\n",
    "print(struct.unpack('f', os.urandom(4)))\n",
    "# Output (-4.651611836498911e+20,)\n",
    "\n",
    "# un-singed random decimal using os.urandom()\n",
    "print(struct.unpack('d', os.urandom(8)))\n",
    "# Output (-1.7024488468332834e-120,)\n",
    "\n",
    "# random char using os.urandom()\n",
    "print(struct.unpack('c', os.urandom(1)))\n",
    "# Output (b'\\xce',)"
   ]
  },
  {
   "cell_type": "markdown",
   "metadata": {},
   "source": [
    "### Zastanów się: \n",
    "1. Poszukaj informacji o szyfrach binarnie addytywnych \n"
   ]
  },
  {
   "cell_type": "markdown",
   "source": [
    "Binarny addytywny szyfr strumieniowy to synchroniczny szyfr strumieniowy, w którym strumień klucza, wiadomość oraz szyfrogram są elementami binarnymi, a funkcja wynikowa h jest funkcją XOR."
   ],
   "metadata": {
    "collapsed": false
   }
  },
  {
   "cell_type": "markdown",
   "source": [
    "2. Poszukaj informacji o szyfrach strumieniowych używanych w praktyce. Gdzie takie szyfry mogą być obecnie stosowane?"
   ],
   "metadata": {
    "collapsed": false
   }
  },
  {
   "cell_type": "markdown",
   "source": [
    "Szyfry strumieniowe są używane tam, gdzie dane pojawiają się w nieznanej długości porcjach – np., w bezpiecznych połączeniach bezprzewodowych. Szyfry blokowe w takich sytuacjach byłyby nieodpowiednie bo transmitowane byłyby niepotrzebne porcje danych – dopełnienia właściwych danych do pełnego bloku."
   ],
   "metadata": {
    "collapsed": false
   }
  },
  {
   "cell_type": "markdown",
   "metadata": {},
   "source": [
    "### Problem \n",
    "Utwórz dwie różne wiadomości równej długości. Zaszyfruj je szyfrem XOR z użyciem tego samego klucza. Wyznacz alternatywę rozłączną szyfrogramów (XOR) i porównaj ją z tą samą operacją wykonaną dla tekstów jawnych. \n",
    "\n",
    "*Z oczywistych względów jeśli obie wiadomości zaszyfrujemy szyfrem XOR z tym samym kluczem to XOR wiadomości jest równy XOR szyfrogramów. Wystarczyłoby np. zdobyć/odgadnąć jeden tekst jawny*  "
   ]
  },
  {
   "cell_type": "code",
   "execution_count": 6,
   "metadata": {},
   "outputs": [
    {
     "name": "stdout",
     "output_type": "stream",
     "text": [
      "['00000000', '00001101', '00010001', '00010111', '00001110', '00000111']\n",
      "['00000011', '00000111', '00000111', '00000011', '00000101', '00001010']\n",
      "['00000011', '00001010', '00010110', '00010100', '00001011', '00001101']\n",
      "['00000011', '00001010', '00010110', '00010100', '00001011', '00001101']\n",
      "True\n"
     ]
    }
   ],
   "source": [
    "message1 = 'secret'\n",
    "message2 = 'poufny'\n",
    "key = 'shrek'\n",
    "\n",
    "def encrypt(message, key):\n",
    "    message_chunks = ASCIIToBinChunks(intoASCIIArray(message))\n",
    "    key_chunks = ASCIIToBinChunks(intoASCIIArray(key))\n",
    "    return [XOR(message_chunks[i], key_chunks[i % len(key_chunks)]) for i in range(len(message))]\n",
    "\n",
    "xor_message1 = encrypt(message1, key)\n",
    "xor_message2 = encrypt(message2, key)\n",
    "\n",
    "messages_xor = [XOR(bit1, bit2) for bit1, bit2 in zip(ASCIIToBinChunks(intoASCIIArray(message1)), ASCIIToBinChunks(intoASCIIArray(message2)))]\n",
    "ciphers_xor = [XOR(bit1, bit2) for bit1, bit2 in zip(xor_message1, xor_message2)]\n",
    "\n",
    "print(xor_message1)\n",
    "print(xor_message2)\n",
    "print(messages_xor)\n",
    "print(ciphers_xor)\n",
    "print(all(bit1 == bit2 for bit1, bit2 in zip(messages_xor, ciphers_xor)))"
   ]
  },
  {
   "cell_type": "markdown",
   "metadata": {},
   "source": [
    "### Bezpieczeństwo szyfru XOR\n",
    "1. Jakie znaczenie ma powyższy wynik z punktu widzenia kryptoanalizy?"
   ]
  },
  {
   "cell_type": "markdown",
   "source": [
    "Powyższy wynik oznacza, że znając jeden tekst jawny i jego szyfrogram to wystarczy nam poznać drugi szyfrogram, żeby korzystając z tego, że XOR dwóch tekstów jawnych jest taki sam jak XOR ich szyfrogramów, wyznaczyć bez problemu drugi tekst jawny"
   ],
   "metadata": {
    "collapsed": false
   }
  },
  {
   "cell_type": "markdown",
   "source": [
    "2. Jeśli OTP to OK.\n"
   ],
   "metadata": {
    "collapsed": false
   }
  },
  {
   "cell_type": "markdown",
   "source": [
    "Tak, bo szyfrując każdą wiadomość innym kluczem, zabezpieczamy się przed powyższą metodą\n"
   ],
   "metadata": {
    "collapsed": false
   }
  },
  {
   "cell_type": "markdown",
   "source": [
    "3. Na czym polega atak ze znanym tekstem jawnym?\n"
   ],
   "metadata": {
    "collapsed": false
   }
  },
  {
   "cell_type": "markdown",
   "source": [
    "Znam tekst jawny i szyfrogram. Jeśli dwie wiadomości zostały zaszyfrowane tym samym kluczem to XORy tekstów jawnych i szyfrogramów są takie same. Możemy zatem znając drugi szyfrogram uzyskać jego tekst jawny"
   ],
   "metadata": {
    "collapsed": false
   }
  },
  {
   "cell_type": "markdown",
   "metadata": {},
   "source": [
    "### Problem\n",
    "\n",
    "1. Utwórz dowolną wiadomość $M_1$. \n",
    "2. Zaszyfruj ją swoim szyfrem XOR z kluczem $K$. \n",
    "3. Wykonaj na szyfrogramie $C_1$ operację $C_2 = C_1 \\oplus (111\\ldots1)$. \n",
    "4. Odszyfruj wiadomość $C_2$ stosując ten sam klucz $K$. \n",
    "5. Porównaj wiadomości: $M_1$ i odszyfrowaną w poprzednim kroku $M_2$ (najlepiej binarnie). \n",
    "\n",
    "*Demonstrujemy deformowalność szyfrowania XOR - możemy zmodyfikować szyfrogram tak by po odszyfrowniu wiadomość była _sensownie_ powiązana z oryginalnym tekstem jawnym* "
   ]
  },
  {
   "cell_type": "code",
   "execution_count": 7,
   "metadata": {},
   "outputs": [
    {
     "name": "stdout",
     "output_type": "stream",
     "text": [
      "['01101011', '01101111', '01100011', '01101000', '01100001', '01101101']\n",
      "['10010100', '10010000', '10011100', '10010111', '10011110', '10010010']\n"
     ]
    }
   ],
   "source": [
    "message1 = 'kocham'\n",
    "key = 'nie'\n",
    "\n",
    "def decrypt(cipher, key):\n",
    "    key_chunks = ASCIIToBinChunks(intoASCIIArray(key))\n",
    "    decrypted_chunks = [XOR(cipher[i], key_chunks[i % len(key_chunks)]) for i in range(len(cipher))]\n",
    "    return ''.join(intoCharArray([int(decrypted_chunks[i], 2) for i in range(len(decrypted_chunks))]))\n",
    "\n",
    "c1 = encrypt(message1, key)\n",
    "c2 = [XOR(byte, '11111111') for byte in c1]\n",
    "decrypted = decrypt(c2, key)\n",
    "\n",
    "print(ASCIIToBinChunks(intoASCIIArray(message1)))\n",
    "print(ASCIIToBinChunks(intoASCIIArray(decrypted)))"
   ]
  },
  {
   "cell_type": "markdown",
   "metadata": {},
   "source": [
    "# Szyfr strumieniowy RC4\n",
    "*Niech studenci sobie zrobią RC4, szyfry z LFSR, ChaCha20 i Salsa20 pokaże na wykładzie. Jeśli zdąże to przygotuję notebooka z kryptoanalizą RC4* \n",
    "\n",
    "1. Odkryj sposób działania algorytmu RC4. Poszukaj informacji gdzie był używany RC4.\n",
    "\n",
    "A) Inicjalizacja generatora liczb pseudolosowych:\n",
    "    \n",
    "    a) zainicjuj tablicę S liczbami od 0 do 255\n",
    "    b) permutuj tablicę S 256 razy (i=0...255); od j=0:\n",
    "        i = i + 1\n",
    "        j = (j + S[i] + K[i mod KeyLength]) mod 256\n",
    "        swap(S[i], S[j])\n",
    "    \n",
    "\n",
    "B) Generowanie strumienia klucza (od i,j=0):\n",
    "\n",
    "    a) i = (i + 1) mod 256\n",
    "    b) j = (j + S[i]) mod 256\n",
    "    c) swap(S[i], S[j])\n",
    "    d) keyStreamByte = S[(S[i]+S[j]) mod 256]\n",
    "    c) cipherByte = plaintextByte^keyStreamByte"
   ]
  },
  {
   "cell_type": "code",
   "execution_count": 8,
   "metadata": {},
   "outputs": [
    {
     "data": {
      "text/plain": "<Figure size 1500x900 with 0 Axes>"
     },
     "metadata": {},
     "output_type": "display_data"
    }
   ],
   "source": [
    "import codecs\n",
    "import matplotlib.pyplot as plt\n",
    "plt.figure(figsize=(15,9))\n",
    "\n",
    "MOD = 256\n",
    "#inicjalizacja generatora szyfru RC4\n",
    "\n",
    "def KSA(key):\n",
    "    key_length = len(key)\n",
    "    # inicjalizuj tablice permutacji S\n",
    "    S = list(range(MOD))\n",
    "    j = 0\n",
    "    for i in range(MOD):\n",
    "        j = (j + S[i] + key[i % key_length]) % MOD\n",
    "        S[i], S[j] = S[j], S[i]\n",
    "\n",
    "    return S"
   ]
  },
  {
   "cell_type": "code",
   "execution_count": 9,
   "metadata": {},
   "outputs": [],
   "source": [
    "#generator liczb pseudolosowych RC4\n",
    "def PRGA(S):\n",
    "    #...\n",
    "    S_ = S[:]\n",
    "    i = 0\n",
    "    j = 0\n",
    "    while True:\n",
    "        i = (i + 1) % 256\n",
    "        j = (j + S_[i]) % 256\n",
    "        S_[i], S_[j] = S_[j], S_[i]\n",
    "        key_stream_byte = S_[(S_[i] + S_[j]) % 256]\n",
    "        yield key_stream_byte"
   ]
  },
  {
   "cell_type": "code",
   "execution_count": 10,
   "metadata": {
    "scrolled": false
   },
   "outputs": [
    {
     "data": {
      "text/plain": "<Figure size 640x480 with 1 Axes>",
      "image/png": "[encoded data removed]"
     },
     "metadata": {},
     "output_type": "display_data"
    },
    {
     "data": {
      "text/plain": "<Figure size 1500x1900 with 0 Axes>"
     },
     "metadata": {},
     "output_type": "display_data"
    },
    {
     "name": "stdout",
     "output_type": "stream",
     "text": [
      "Tekst jawny: Lorem ipsum dolor sit amet, consectetur adipiscing elit. Proin nibh augue, suscipit a, scelerisque sed, lacinia in, mi.\n",
      "Szyfrogram: 5D35E951F8AB6369A98A3FD2F35341B4B96AC00E048B805F1891C10D91C63851D607296EFBA4A8160CC3E2C0D4909273D5329756ADAEB6B59438B9AFFDF6E1F4A43715DD4EA1972165F09D9E1833BEE9FF9B2F680DBD7152835FC2F9361F9D4AC293D9929067191EDB06BA477010D8EB7F4C77E0083408\n",
      "Tekst odszyfrowany: Lorem ipsum dolor sit amet, consectetur adipiscing elit. Proin nibh augue, suscipit a, scelerisque sed, lacinia in, mi.\n"
     ]
    }
   ],
   "source": [
    "def get_keystream(key):\n",
    "    S = KSA(key)\n",
    "    return PRGA(S)\n",
    "\n",
    "\n",
    "def encrypt_logic(key, text, kstr):\n",
    "    key = [ord(c) for c in key]\n",
    "    keystream = get_keystream(key)\n",
    "    res = []\n",
    "    for c in text:\n",
    "        ks = next(keystream)\n",
    "        kstr.append(ks)\n",
    "        val = (\"%02X\" % (c ^ ks))  # XOR and taking hex\n",
    "        res.append(val)\n",
    "    return ''.join(res)\n",
    "\n",
    "\n",
    "def encrypt(key, plaintext):\n",
    "    kstream =[]\n",
    "    plaintext = [ord(c) for c in plaintext]\n",
    "    text = encrypt_logic(key, plaintext,kstream)\n",
    "    #print(\"\\n Key stream :\", kstream)\n",
    "    # matplotlib histogram\n",
    "    plt.hist(kstream, color = 'blue', edgecolor = 'black', bins = 256)\n",
    "    plt.title('Histogram of RC4 key stream')\n",
    "    plt.xlabel('Values')\n",
    "    plt.ylabel('Frequency')\n",
    "    plt.figure(figsize=(15,19))\n",
    "    plt.show()\n",
    "    return text\n",
    "\n",
    "def decrypt(key, ciphertext):\n",
    "    kstream =[]\n",
    "    ciphertext = codecs.decode(ciphertext, 'hex_codec')\n",
    "    res = encrypt_logic(key, ciphertext,kstream)\n",
    "    return codecs.decode(res, 'hex_codec').decode('utf-8')\n",
    "\n",
    "\n",
    "def main():\n",
    "\n",
    "    key = 'klucz-szyfrowy'  # plaintext\n",
    "    plaintext = 'Lorem ipsum dolor sit amet, consectetur adipiscing elit. Proin nibh augue, suscipit a, scelerisque sed, lacinia in, mi.'  # plaintext\n",
    "    ciphertext = encrypt(key, plaintext)\n",
    "    print('Tekst jawny:', plaintext)\n",
    "    print('Szyfrogram:', ciphertext)\n",
    "    decrypted = decrypt(key, ciphertext)\n",
    "    print('Tekst odszyfrowany:', decrypted)\n",
    "    \n",
    "main()\n"
   ]
  },
  {
   "cell_type": "markdown",
   "metadata": {},
   "source": [
    "## Jak sprawdzać losowość ciągu? Testy losowaości.  \n",
    "*Jeśli wystarczy czasu to można wspomniać o testach losowości, np. z kolekcji NIST* \n",
    "\n",
    "1. Poszukaj informacji o kryptograficznych generatorach liczb pseudolosowych. Jaki jest najważniejsza własność generatora z punktu widzenia kryptografii?"
   ]
  },
  {
   "cell_type": "markdown",
   "source": [
    "Mówimy, że generator przechodzi test next-bit; jeśli nie istnieje żaden algorytm, który w wielomianowym czasie, znając pierwszych l bitów wyjściowej sekwencji s, może przewidzieć (l+1) bit sekwencji s z prawdopodobieństwem większym niż 1/2. Generator pseudolosowy, który przechodzi test next-bit (nawet pod pewnymi warunkami) jest nazywany kryptograficznie bezpiecznym generatorem pseudolosowym (CsPrnG)."
   ],
   "metadata": {
    "collapsed": false
   }
  },
  {
   "cell_type": "markdown",
   "source": [
    "2. Przykładowy test losowości monobit (https://csrc.nist.gov/publications/detail/sp/800-22/rev-1a/final). Przeanalizuj kod."
   ],
   "metadata": {
    "collapsed": false
   }
  },
  {
   "cell_type": "code",
   "execution_count": 11,
   "metadata": {},
   "outputs": [
    {
     "name": "stdout",
     "output_type": "stream",
     "text": [
      "0110110111010011111110010111110011100010000001101001001100111100100101001111111110101011111111000010110101111111001101001100110100011101111110011101110011111101000110000100011010010101111100010100100101001100110011011011011111101001011001100000010000111100111100110101001100100011111001011100101111111011000000010010000001101000100111001001100001001011111101010010011110010101101000110001010100110100100101101000001001101011100101100101100111011010001101110111010001010111110101101111011111111110011011111011111000101100010000011100011010000011110001001010000010001111001110011111100110010011111111111110001000000111111110110001111001000110011111111100111101111011001001011010011011111100110000001101000010000110111010001110001110111111011111110001000010001111110011010011100000011000011100001111100010110011001010011010110110111001110101010100011011001011110100110100000011101011111000111000111111100100111000010110100100100001001010011100011100000110000000000111001101000110001110000001110111010011010001101001001001011000\n",
      "0.08011831372763417\n"
     ]
    }
   ],
   "source": [
    "import numpy\n",
    "import math\n",
    "from scipy import special as spc\n",
    "\n",
    "def monobit(bin_data: str):\n",
    "    \"\"\"\n",
    "    Note that this description is taken from the NIST documentation [1]\n",
    "    [1] http://csrc.nist.gov/publications/nistpubs/800-22-rev1a/SP800-22rev1a.pdf\n",
    "  \n",
    "    The focus of this test is the proportion of zeros and ones for the entire sequence. The purpose of this test is\n",
    "    to determine whether the number of ones and zeros in a sequence are approximately the same as would be expected\n",
    "    for a truly random sequence. This test assesses the closeness of the fraction of ones to 1/2, that is the number\n",
    "    of ones and zeros ina  sequence should be about the same. All subsequent tests depend on this test.\n",
    "  \n",
    "    :param bin_data: a binary string\n",
    "    :return: the p-value from the test\n",
    "    \"\"\"\n",
    "    count = 0\n",
    "    # If the char is 0 minus 1, else add 1\n",
    "    for char in bin_data:\n",
    "        if char == '0':\n",
    "            count -= 1\n",
    "        else:\n",
    "            count += 1\n",
    "    # Calculate the p value\n",
    "    sobs = count / math.sqrt(len(bin_data))\n",
    "    p_val = spc.erfc(math.fabs(sobs) / math.sqrt(2))\n",
    "    return p_val\n",
    "\n",
    "\n",
    "#Generowanie n-bitowego ciągu \n",
    "n=3\n",
    "#arr = numpy.random.randint(2, size=(n,))\n",
    "bitString = []\n",
    "for i in range(0, 1024):\n",
    "    x = str(numpy.random.randint(0, 2))\n",
    "    bitString.append(x)\n",
    "arr = ''.join(bitString)\n",
    "print(arr)\n",
    "print(monobit(arr))"
   ]
  },
  {
   "cell_type": "markdown",
   "metadata": {},
   "source": [
    "Poniższy test nazywa się runs i opiera się na zliczaniu serii nieprzerwanych ciągów 0 albo 1 w ciągu wejściowym. Ocenia czy ich ilość jest taka jak przewidywana dla danych losowych.\n",
    "\n",
    "W samym teście najpierw wyliczamy wartość pi, czyli stosunek liczby jedynek do długości ciągu wejściowego. Następnie sprawdzamy czy ten stosunek mieści się w rozsądnym przedziale, co sprawdzamy za pomocą wyliczenia wartości tau, które wynosi 2/sqrt(n) gdzie n to długość ciągu wejściowego. Im dłuższy ciąg, tym bardziej pi powinno zbliżać się do 1/2. Jeżeli okaże się, że wartość ta za bardzo odstaje od przewidywanej, nie trzeba stosować testu runs aby stwierdzić, że dane wejściowe nie wyglądają losowo.\n",
    "\n",
    "Następnie zliczamy faktyczną liczbę nieprzerwanych ciągów tych samych wartości. Wyliczamy p_value stosując korzystając z funkcji zaproponowanej przez autorów testu. Na końcu sprawdzamy, czy p_value jest większe niż 1%. Jeżeli jest, test zostaje zakończony pomyślnie."
   ]
  },
  {
   "cell_type": "code",
   "execution_count": 12,
   "metadata": {},
   "outputs": [
    {
     "name": "stdout",
     "output_type": "stream",
     "text": [
      "0101011111111011110001100101110110000101011000111101100111011111111001110101001110000010101110111011011011100010011011111011010101011101011111010001101010110110010001001100101100110111011111010101011111000100101001001111110010100010101010010000000010000010011000111101110011001110000111011011010000000110100001011111010101001100001110110101000001101100100111110101111011011000010011010000110111111111100011010000111111010001010111101110111001010100011101010110110001011110001110000100001101110110101111100110111101011111111001101100110001111001111010010010001010011101001111110100100101111110010010001110001011011111010001101101000010110000100100000101100101111000010000011111111100000101111101000100101110110100110010001001111000100100110011100000101100101111010100010000010011000001010101100001110000101001100111010111000111010000000100110011010101110000000101010001000010100001011110101011101000000111011111100100001011001110110100010110000011110110000000100110110011011011101001101010100110011010101110000100000110101100\n",
      "Test zakończony pomyślnie:\n",
      "0.8350227241180654\n"
     ]
    }
   ],
   "source": [
    "import numpy\n",
    "import math\n",
    "from scipy import special as spc\n",
    "\n",
    "def count_ones(bin_data: str):\n",
    "    count=0\n",
    "    for l in bin_data:\n",
    "        if l=='1':\n",
    "            count+=1\n",
    "    return count\n",
    "\n",
    "def runs(bin_data: str):\n",
    "    \"\"\"\n",
    "    Note that this description is taken from the NIST documentation [1]\n",
    "    [1] http://csrc.nist.gov/publications/nistpubs/800-22-rev1a/SP800-22rev1a.pdf\n",
    "  \n",
    "    The focus of this test is the total number of runs in the sequence,\n",
    "    where a run is an uninterrupted sequence of identical bits.  \n",
    "    A run of length k consists of exactly k identical bits and is bounded\n",
    "    before and after with a bit of the opposite value. \n",
    "    The purpose of the runs test is to determine whether the number of runs of\n",
    "    ones and zeros of various lengths is as expected for a random sequence. \n",
    "    In particular, this test determines whether the oscillation between such\n",
    "    zeros and ones is too fast or too slow. \n",
    "\n",
    "\n",
    "    :param bin_data: a binary string\n",
    "    :return: the p-value from the test\n",
    "    \"\"\"\n",
    "    n = len(bin_data)\n",
    "    pi = count_ones(bin_data)/n\n",
    "    tau = 2/math.sqrt(n)\n",
    "    \n",
    "    if abs(pi - 1/2) >= tau:\n",
    "        print(\"Test Monobit nie powinien zostać zaliczony.\")\n",
    "        return 0\n",
    "    \n",
    "    count = 1\n",
    "    # If the char at next index is different, there is a new run\n",
    "    for i in range(n-1):\n",
    "        if bin_data[i] != bin_data[i+1]:\n",
    "            count+=1\n",
    "            \n",
    "    # Calculate the p value\n",
    "    p_val = spc.erfc((abs(count-2*n*pi*(1-pi)))/(2*math.sqrt(2*n)*pi*(1-pi)))\n",
    "    return p_val\n",
    "\n",
    "\n",
    "# Generowanie n-bitowego ciągu \n",
    "n=3\n",
    "arr = numpy.random.randint(2, size=(n,))\n",
    "bitString = []\n",
    "for i in range(0, 1024):\n",
    "    x = str(numpy.random.randint(0, 2))\n",
    "    bitString.append(x)\n",
    "arr = ''.join(bitString)\n",
    "# arr = '1001101011' - taki przykład podano w opisie testu, wynik wynosi zgodnie z opisem 0.147232\n",
    "print(arr)\n",
    "res = runs(arr)\n",
    "if res > 0.01:\n",
    "    print(\"Test zakończony pomyślnie:\")\n",
    "else:\n",
    "    print(\"Test niezaliczony:\")\n",
    "print(res)"
   ]
  }
 ],
 "metadata": {
  "kernelspec": {
   "display_name": "Python 3 (ipykernel)",
   "language": "python",
   "name": "python3"
  },
  "language_info": {
   "codemirror_mode": {
    "name": "ipython",
    "version": 3
   },
   "file_extension": ".py",
   "mimetype": "text/x-python",
   "name": "python",
   "nbconvert_exporter": "python",
   "pygments_lexer": "ipython3",
   "version": "3.10.4"
  }
 },
 "nbformat": 4,
 "nbformat_minor": 1
}
